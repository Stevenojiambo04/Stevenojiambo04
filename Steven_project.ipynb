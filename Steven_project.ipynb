{
  "nbformat": 4,
  "nbformat_minor": 0,
  "metadata": {
    "colab": {
      "provenance": [],
      "authorship_tag": "ABX9TyN2YrLtxEr3rBPPGR7aN+5w",
      "include_colab_link": true
    },
    "kernelspec": {
      "name": "python3",
      "display_name": "Python 3"
    },
    "language_info": {
      "name": "python"
    }
  },
  "cells": [
    {
      "cell_type": "markdown",
      "metadata": {
        "id": "view-in-github",
        "colab_type": "text"
      },
      "source": [
        "<a href=\"https://colab.research.google.com/github/Stevenojiambo04/Stevenojiambo04/blob/main/Steven_project.ipynb\" target=\"_parent\"><img src=\"https://colab.research.google.com/assets/colab-badge.svg\" alt=\"Open In Colab\"/></a>"
      ]
    },
    {
      "cell_type": "code",
      "execution_count": null,
      "metadata": {
        "colab": {
          "base_uri": "https://localhost:8080/"
        },
        "id": "r1HBGpfSrV1L",
        "outputId": "dc4ba176-6431-4100-c0ae-102e228ae7cf"
      },
      "outputs": [
        {
          "output_type": "stream",
          "name": "stdout",
          "text": [
            "steve\n",
            "('math', 70, 'science', 80, 'engl', 60)\n"
          ]
        }
      ],
      "source": [
        "#question 1\n",
        "myname=(\"steve\")\n",
        "mysubject=(\"math\",70,\"science\",80,\"engl\",60)\n",
        "print(myname)\n",
        "print(mysubject)"
      ]
    },
    {
      "cell_type": "code",
      "source": [
        "#function to calculate average grade\n",
        "math=70\n",
        "science=80\n",
        "engl=60\n",
        "tot=(\"math\"+\"science\"+\"engl\")\n",
        "avg=((math+science+engl)/3)\n",
        "print(avg)"
      ],
      "metadata": {
        "colab": {
          "base_uri": "https://localhost:8080/"
        },
        "id": "vCuXQvEM5O3Q",
        "outputId": "83bb0baf-60cd-4748-e77f-250b49ec88df"
      },
      "execution_count": 10,
      "outputs": [
        {
          "output_type": "stream",
          "name": "stdout",
          "text": [
            "70.0\n"
          ]
        }
      ]
    },
    {
      "cell_type": "code",
      "source": [
        "#store grade in alist\n",
        "mylist=[70,80,60]\n",
        "print(mylist)"
      ],
      "metadata": {
        "id": "QJymaF3VJsCd",
        "colab": {
          "base_uri": "https://localhost:8080/"
        },
        "outputId": "032b1712-dc4a-4918-a3cb-095c864861a0"
      },
      "execution_count": 4,
      "outputs": [
        {
          "output_type": "stream",
          "name": "stdout",
          "text": [
            "[70, 80, 60]\n"
          ]
        }
      ]
    },
    {
      "cell_type": "code",
      "source": [
        "#dictionary to store name and average grade\n",
        "mydict={\"steve\":70}\n",
        "print(mydict)"
      ],
      "metadata": {
        "colab": {
          "base_uri": "https://localhost:8080/"
        },
        "id": "bcPG9doB84DA",
        "outputId": "ca141e4c-fc43-46d5-97a5-ace2f72b8b22"
      },
      "execution_count": 11,
      "outputs": [
        {
          "output_type": "stream",
          "name": "stdout",
          "text": [
            "{'steve': 70}\n"
          ]
        }
      ]
    },
    {
      "cell_type": "code",
      "source": [
        "mydict={\"name\":\"steven\",\n",
        "        \"math\":70,\n",
        "        \"science\":80,\n",
        "        \"engl\":60,\n",
        "        \"avg\":70}\n",
        "print(mydict)"
      ],
      "metadata": {
        "colab": {
          "base_uri": "https://localhost:8080/"
        },
        "id": "PoWzPeqEA6oF",
        "outputId": "b5183272-5b50-415c-ffee-71e54c7d35f0"
      },
      "execution_count": 15,
      "outputs": [
        {
          "output_type": "stream",
          "name": "stdout",
          "text": [
            "{'name': 'steven', 'math': 70, 'science': 80, 'engl': 60, 'avg': 70}\n"
          ]
        }
      ]
    }
  ]
}