{
  "nbformat": 4,
  "nbformat_minor": 0,
  "metadata": {
    "colab": {
      "provenance": [],
      "authorship_tag": "ABX9TyMzIjMLmJcPVV2atTVAcY3E",
      "include_colab_link": true
    },
    "kernelspec": {
      "name": "python3",
      "display_name": "Python 3"
    },
    "language_info": {
      "name": "python"
    }
  },
  "cells": [
    {
      "cell_type": "markdown",
      "metadata": {
        "id": "view-in-github",
        "colab_type": "text"
      },
      "source": [
        "<a href=\"https://colab.research.google.com/github/Stevenojiambo04/Stevenojiambo04/blob/main/Steven_Otieno_project(class_exercise)_Py.ipynb\" target=\"_parent\"><img src=\"https://colab.research.google.com/assets/colab-badge.svg\" alt=\"Open In Colab\"/></a>"
      ]
    },
    {
      "cell_type": "code",
      "execution_count": 33,
      "metadata": {
        "id": "HnQUHxYD9DRA",
        "colab": {
          "base_uri": "https://localhost:8080/"
        },
        "outputId": "2f019252-2632-459e-96b7-195803ca67bf"
      },
      "outputs": [
        {
          "output_type": "stream",
          "name": "stdout",
          "text": [
            "[{'name': 'Steven', 'age': 20, 'height': 26.6, 'hobbies': ['swimming', 'cooking', 'reading']}, {'name': 'Susan', 'age': 21, 'height': 20.6, 'hobbies': ['riding', 'watching', 'reading']}]\n"
          ]
        }
      ],
      "source": [
        "#QZ.1\n",
        "#creating a list of dictionaries\n",
        "students_info1=[{\"name\":\"Steven\",\"age\":20,\"height\":26.6,\"hobbies\":[\"swimming\",\"cooking\",\"reading\"]},\n",
        "               {\"name\":\"Susan\",\"age\":21,\"height\":20.6,\"hobbies\":[\"riding\",\"watching\",\"reading\"]}]\n",
        "print(students_info1)"
      ]
    },
    {
      "cell_type": "code",
      "source": [
        "#adding new list of dictionary\n",
        "students_info1.append({\"name\":\"Solomon\",\"age\":27,\"height\":29.5,\"hobbies\":[\"watching\",\"cooking\",\"reading\"]})\n",
        "students_info1.append({\"name\":\"Sarah\",\"age\":23,\"height\":27.7,\"hobbies\":[\"swimming\",\"watching\",\"reading\"]})\n",
        "students_info1.append({\"name\":\"Cliff\",\"age\":24,\"height\":28.5,\"hobbies\":[\"riding\",\"cooking\",\"reading\"]})\n",
        "print(students_info1)"
      ],
      "metadata": {
        "colab": {
          "base_uri": "https://localhost:8080/"
        },
        "id": "YhHKq_hZzOIv",
        "outputId": "7d58b5ec-e78f-4bd9-c0bb-1ed1da45ef26"
      },
      "execution_count": 34,
      "outputs": [
        {
          "output_type": "stream",
          "name": "stdout",
          "text": [
            "[{'name': 'Steven', 'age': 20, 'height': 26.6, 'hobbies': ['swimming', 'cooking', 'reading']}, {'name': 'Susan', 'age': 21, 'height': 20.6, 'hobbies': ['riding', 'watching', 'reading']}, {'name': 'Solomon', 'age': 27, 'height': 29.5, 'hobbies': ['watching', 'cooking', 'reading']}, {'name': 'Sarah', 'age': 23, 'height': 27.7, 'hobbies': ['swimming', 'watching', 'reading']}, {'name': 'Cliff', 'age': 24, 'height': 28.5, 'hobbies': ['riding', 'cooking', 'reading']}]\n"
          ]
        }
      ]
    },
    {
      "cell_type": "code",
      "source": [
        "#updating\n",
        "students_info={\"name\":\"Steven\",\"age\":20,\"height\":26.6,\"hobbies\":[\"swimming\",\"cooking\",\"reading\"]}\n",
        "students_info.update({\"age\":20})\n",
        "print(students_info)"
      ],
      "metadata": {
        "colab": {
          "base_uri": "https://localhost:8080/"
        },
        "id": "3-Wniva1dlFC",
        "outputId": "e193100e-95e8-4256-f573-07f3d85dfe07"
      },
      "execution_count": 55,
      "outputs": [
        {
          "output_type": "stream",
          "name": "stdout",
          "text": [
            "{'name': 'Steven', 'age': 20, 'height': 26.6, 'hobbies': ['swimming', 'cooking', 'reading']}\n"
          ]
        }
      ]
    },
    {
      "cell_type": "code",
      "execution_count": 36,
      "metadata": {
        "colab": {
          "base_uri": "https://localhost:8080/"
        },
        "outputId": "674c94a7-379b-4f28-a94b-1bbaea724343",
        "id": "d1Cxuy_tswve"
      },
      "outputs": [
        {
          "output_type": "stream",
          "name": "stdout",
          "text": [
            "[{'name': 'Dan', 'age': 29, 'height': 29.2, 'hobbies': ['cleaning', 'cooking', 'reading']}, {'name': 'Kevin', 'age': 17, 'height': 21.7, 'hobbies': ['watching', 'reading']}]\n"
          ]
        }
      ],
      "source": [
        "#QZ.2\n",
        "#Another list of dictionaries\n",
        "students_info2=[{\"name\":\"Dan\",\"age\":29,\"height\":29.2,\"hobbies\":[\"cleaning\",\"cooking\",\"reading\"]},\n",
        "               {\"name\":\"Kevin\",\"age\":17,\"height\":21.7,\"hobbies\":[\"watching\",\"reading\"]}]\n",
        "print(students_info2)"
      ]
    },
    {
      "cell_type": "code",
      "source": [
        "#merging list\n",
        "students_info3=students_info1+students_info2\n",
        "print(students_info3)"
      ],
      "metadata": {
        "colab": {
          "base_uri": "https://localhost:8080/"
        },
        "id": "_-qIWs0tEYCu",
        "outputId": "fcd6b018-cc63-46df-f18f-2bdd1768b070"
      },
      "execution_count": 37,
      "outputs": [
        {
          "output_type": "stream",
          "name": "stdout",
          "text": [
            "[{'name': 'Steven', 'age': 20, 'height': 26.6, 'hobbies': ['swimming', 'cooking', 'reading']}, {'name': 'Susan', 'age': 21, 'height': 20.6, 'hobbies': ['riding', 'watching', 'reading']}, {'name': 'Solomon', 'age': 27, 'height': 29.5, 'hobbies': ['watching', 'cooking', 'reading']}, {'name': 'Sarah', 'age': 23, 'height': 27.7, 'hobbies': ['swimming', 'watching', 'reading']}, {'name': 'Cliff', 'age': 24, 'height': 28.5, 'hobbies': ['riding', 'cooking', 'reading']}, {'name': 'Dan', 'age': 29, 'height': 29.2, 'hobbies': ['cleaning', 'cooking', 'reading']}, {'name': 'Kevin', 'age': 17, 'height': 21.7, 'hobbies': ['watching', 'reading']}]\n"
          ]
        }
      ]
    },
    {
      "cell_type": "code",
      "source": [
        "#count number of students in a list of dictionaries\n",
        "count=0\n",
        "for student in students_info3:\n",
        "    count+=1\n",
        "print(count)\n"
      ],
      "metadata": {
        "colab": {
          "base_uri": "https://localhost:8080/"
        },
        "outputId": "f1677b2a-2008-4333-c9c7-1ab3057a3156",
        "id": "E8HdeEg7f4XW"
      },
      "execution_count": 49,
      "outputs": [
        {
          "output_type": "stream",
          "name": "stdout",
          "text": [
            "7\n"
          ]
        }
      ]
    },
    {
      "cell_type": "code",
      "source": [
        "#calculating the sum of students ages\n",
        "total_age=0\n",
        "for student in students_info3:\n",
        "    total_age+=student[\"age\"]\n",
        "print(total_age)"
      ],
      "metadata": {
        "colab": {
          "base_uri": "https://localhost:8080/"
        },
        "id": "Q_DC7hi7gJI9",
        "outputId": "1a94c72c-dfb3-4a4c-e392-260d81b90775"
      },
      "execution_count": 50,
      "outputs": [
        {
          "output_type": "stream",
          "name": "stdout",
          "text": [
            "161\n"
          ]
        }
      ]
    },
    {
      "cell_type": "code",
      "source": [
        "#calculating the average age of the students\n",
        "average_age=total_age/count\n",
        "print(average_age)"
      ],
      "metadata": {
        "colab": {
          "base_uri": "https://localhost:8080/"
        },
        "id": "L5zD5hT7hGZr",
        "outputId": "b2294b3d-9ce5-4e36-eab2-714dbdc8fc9d"
      },
      "execution_count": 52,
      "outputs": [
        {
          "output_type": "stream",
          "name": "stdout",
          "text": [
            "23.0\n"
          ]
        }
      ]
    },
    {
      "cell_type": "code",
      "source": [
        "#identifying students with specific hobby\n",
        "for student in students_info3:\n",
        "    if \"cooking\" in student[\"hobbies\"]:\n",
        "        print(student[\"name\"])"
      ],
      "metadata": {
        "colab": {
          "base_uri": "https://localhost:8080/"
        },
        "id": "Q-vlbBOEhb45",
        "outputId": "ffe5b1c9-cc75-477e-fb18-efccf38bfdcc"
      },
      "execution_count": 53,
      "outputs": [
        {
          "output_type": "stream",
          "name": "stdout",
          "text": [
            "Steven\n",
            "Solomon\n",
            "Cliff\n",
            "Dan\n"
          ]
        }
      ]
    },
    {
      "cell_type": "code",
      "source": [
        "#finding the tallest student\n",
        "tallest_student=students_info3[0]\n",
        "for student in students_info3:\n",
        "    if student[\"height\"]>tallest_student[\"height\"]:\n",
        "        tallest_student=student\n",
        "print(tallest_student[\"name\"])\n"
      ],
      "metadata": {
        "colab": {
          "base_uri": "https://localhost:8080/"
        },
        "id": "MyjR56Iyh614",
        "outputId": "628ad246-d043-4097-87f8-c9ecad0e0077"
      },
      "execution_count": 54,
      "outputs": [
        {
          "output_type": "stream",
          "name": "stdout",
          "text": [
            "Solomon\n"
          ]
        }
      ]
    },
    {
      "cell_type": "code",
      "source": [],
      "metadata": {
        "id": "xO3NlBvDiPPB"
      },
      "execution_count": null,
      "outputs": []
    }
  ]
}